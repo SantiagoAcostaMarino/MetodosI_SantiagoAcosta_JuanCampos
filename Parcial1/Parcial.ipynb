{
 "cells": [
  {
   "cell_type": "code",
   "execution_count": null,
   "metadata": {},
   "outputs": [],
   "source": []
  },
  {
   "cell_type": "code",
   "execution_count": 132,
   "metadata": {},
   "outputs": [],
   "source": [
    "import numpy as np\n",
    "import matplotlib.pyplot as plt\n",
    "import pandas as pd\n",
    "import sympy as sym\n",
    "\n",
    "import os\n",
    "import os.path as path\n",
    "import wget"
   ]
  },
  {
   "cell_type": "code",
   "execution_count": 133,
   "metadata": {},
   "outputs": [
    {
     "data": {
      "text/plain": [
       "[<matplotlib.lines.Line2D at 0x11fd0996450>]"
      ]
     },
     "execution_count": 133,
     "metadata": {},
     "output_type": "execute_result"
    },
    {
     "data": {
      "image/png": "[encoded data removed]",
      "text/plain": [
       "<Figure size 640x480 with 1 Axes>"
      ]
     },
     "metadata": {},
     "output_type": "display_data"
    }
   ],
   "source": [
    "x=np.linspace(-3,3,100)\n",
    "y=(np.e**(-x))-x\n",
    "plt.plot(x,y,scaley=2)"
   ]
  },
  {
   "cell_type": "markdown",
   "metadata": {},
   "source": [
    "Vamos a tomar como puntos xo =-2 y x1=2 como se puede ver f(x0)<0 y f(x1)>0"
   ]
  },
  {
   "cell_type": "code",
   "execution_count": 134,
   "metadata": {},
   "outputs": [
    {
     "data": {
      "text/plain": [
       "2.718281828459045"
      ]
     },
     "execution_count": 134,
     "metadata": {},
     "output_type": "execute_result"
    }
   ],
   "source": [
    "x_0=-2\n",
    "x_1=2\n",
    "x_2=(x_0+x_1)/2\n",
    "\n",
    "np.e\n",
    "\n",
    "\n"
   ]
  },
  {
   "cell_type": "markdown",
   "metadata": {},
   "source": [
    "punto c"
   ]
  },
  {
   "cell_type": "code",
   "execution_count": 135,
   "metadata": {},
   "outputs": [],
   "source": [
    "def fun(x_0):\n",
    "    y_0=np.e**(-x_0)-x_0\n",
    "    return y_0\n"
   ]
  },
  {
   "cell_type": "code",
   "execution_count": 136,
   "metadata": {},
   "outputs": [],
   "source": [
    "\n",
    "y_0=fun(x_0)\n",
    "y_1=fun(x_1)\n",
    "y_2=fun(x_2)\n",
    "\n",
    "\n"
   ]
  },
  {
   "cell_type": "markdown",
   "metadata": {},
   "source": [
    "Punto D"
   ]
  },
  {
   "cell_type": "code",
   "execution_count": 137,
   "metadata": {},
   "outputs": [],
   "source": [
    "def interpolate(y_1,y_2,x_1,x_2):\n",
    "    ans=(y_2-y_1)/(x_2-x_1)\n",
    "    return ans"
   ]
  },
  {
   "cell_type": "code",
   "execution_count": 138,
   "metadata": {},
   "outputs": [
    {
     "name": "stdout",
     "output_type": "stream",
     "text": [
      "-2.813430203923509 0.9999999999999996\n"
     ]
    }
   ],
   "source": [
    "def interpolación(y_1,y_2,x_1,x_2):\n",
    "    a=interpolate(interpolate(y_1,y_2,x_1,x_2),interpolate(y_0,y_1,x_0,x_1),x_2,x_0)\n",
    "    b=interpolate(y_0,y_1,x_0,x_1)-(x_0+x_1)*a\n",
    "    c=y_0-x_0*interpolate(y_0,y_1,x_0,x_1)+x_0*x_1*a\n",
    "    print(b,c)\n",
    "    return [a,b,c]\n",
    "coef=interpolación(y_1,y_2,x_1,x_2)"
   ]
  },
  {
   "cell_type": "code",
   "execution_count": 139,
   "metadata": {},
   "outputs": [
    {
     "data": {
      "text/plain": [
       "[0.6905489227709077, -2.813430203923509, 0.9999999999999996]"
      ]
     },
     "execution_count": 139,
     "metadata": {},
     "output_type": "execute_result"
    }
   ],
   "source": [
    "coef"
   ]
  },
  {
   "cell_type": "code",
   "execution_count": null,
   "metadata": {},
   "outputs": [],
   "source": []
  },
  {
   "cell_type": "code",
   "execution_count": 140,
   "metadata": {},
   "outputs": [
    {
     "data": {
      "text/plain": [
       "0.3934301166710446"
      ]
     },
     "execution_count": 140,
     "metadata": {},
     "output_type": "execute_result"
    }
   ],
   "source": [
    "def punto_x3(coef=list):\n",
    "    x_3=0\n",
    "\n",
    "    if coef[1]<0:\n",
    "        x_3=-2*coef[2]/(coef[1]-np.sqrt((coef[1]**2)-(4*coef[0]*coef[2])))\n",
    "    if coef[1]>0:\n",
    "        x_3=-2*coef[2]/(coef[1]+np.sqrt((coef[1]**2)-(4*coef[0]*coef[2])))\n",
    "\n",
    "    return x_3\n",
    "punto_x3(coef)\n"
   ]
  },
  {
   "cell_type": "code",
   "execution_count": 141,
   "metadata": {},
   "outputs": [
    {
     "name": "stdout",
     "output_type": "stream",
     "text": [
      "-0.23631488327651443\n",
      "0.327700518714266\n",
      "nan\n"
     ]
    },
    {
     "name": "stderr",
     "output_type": "stream",
     "text": [
      "C:\\Users\\windows 10\\AppData\\Local\\Temp\\ipykernel_19032\\299519933.py:5: RuntimeWarning: invalid value encountered in sqrt\n",
      "  x_3=-2*coef[2]/(coef[1]-np.sqrt((coef[1]**2)-(4*coef[0]*coef[2])))\n"
     ]
    },
    {
     "data": {
      "text/plain": [
       "nan"
      ]
     },
     "execution_count": 141,
     "metadata": {},
     "output_type": "execute_result"
    }
   ],
   "source": [
    "def iteración(coef,limit=100):\n",
    "    it=1\n",
    "    x_3=punto_x3(coef)\n",
    "    epsilon=abs(fun(x_3))\n",
    "   \n",
    "    while epsilon>10**-9 and it<limit:\n",
    "        x_0=x_1\n",
    "        x_1=x_2\n",
    "        x_2=x_3\n",
    "        y_0=fun(x_0)\n",
    "        y_1=fun(x_1)\n",
    "        y_2=fun(x_2)\n",
    "        \n",
    "        coef=interpolación(y_1,y_2,x_1,x_2)\n",
    "        \n",
    "        x_3=punto_x3(coef)\n",
    "        it+=1\n",
    "        epsilon=abs(fun(x_3))\n",
    "        print(x_3)\n",
    "    return x_3\n",
    "    \n",
    "iteración(coef,limit=100)\n",
    "    "
   ]
  },
  {
   "cell_type": "code",
   "execution_count": 142,
   "metadata": {},
   "outputs": [
    {
     "name": "stdout",
     "output_type": "stream",
     "text": [
      "nan\n"
     ]
    },
    {
     "name": "stderr",
     "output_type": "stream",
     "text": [
      "C:\\Users\\windows 10\\AppData\\Local\\Temp\\ipykernel_19032\\299519933.py:5: RuntimeWarning: invalid value encountered in sqrt\n",
      "  x_3=-2*coef[2]/(coef[1]-np.sqrt((coef[1]**2)-(4*coef[0]*coef[2])))\n"
     ]
    }
   ],
   "source": [
    "print(punto_x3(coef))"
   ]
  }
 ],
 "metadata": {
  "kernelspec": {
   "display_name": "Python 3",
   "language": "python",
   "name": "python3"
  },
  "language_info": {
   "codemirror_mode": {
    "name": "ipython",
    "version": 3
   },
   "file_extension": ".py",
   "mimetype": "text/x-python",
   "name": "python",
   "nbconvert_exporter": "python",
   "pygments_lexer": "ipython3",
   "version": "3.11.5"
  },
  "orig_nbformat": 4
 },
 "nbformat": 4,
 "nbformat_minor": 2
}
