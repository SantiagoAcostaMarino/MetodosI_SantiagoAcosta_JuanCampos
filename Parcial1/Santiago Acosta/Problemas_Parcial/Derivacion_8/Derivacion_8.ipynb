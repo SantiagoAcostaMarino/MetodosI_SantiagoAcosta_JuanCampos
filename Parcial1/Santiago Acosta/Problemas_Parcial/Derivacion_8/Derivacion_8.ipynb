{
 "cells": [
  {
   "cell_type": "code",
   "execution_count": 12,
   "metadata": {},
   "outputs": [],
   "source": [
    "import numpy as np\n",
    "import matplotlib.pyplot as plt\n",
    "import math"
   ]
  },
  {
   "cell_type": "code",
   "execution_count": 13,
   "metadata": {},
   "outputs": [],
   "source": [
    "def func (x):\n",
    "    return np.sqrt(np.tan(x))\n",
    "\n"
   ]
  },
  {
   "cell_type": "code",
   "execution_count": 14,
   "metadata": {},
   "outputs": [],
   "source": [
    "x= 0.1\n",
    "h = 0.01"
   ]
  },
  {
   "cell_type": "code",
   "execution_count": 15,
   "metadata": {},
   "outputs": [
    {
     "data": {
      "text/plain": [
       "1.5910401979273847"
      ]
     },
     "execution_count": 15,
     "metadata": {},
     "output_type": "execute_result"
    }
   ],
   "source": [
    "#Punto C\n",
    "\n",
    "def DerivadaProgresiva(f,x,h):\n",
    "    \n",
    "    d = 0.\n",
    "    if h != 0:\n",
    "        d = (1 /(2 * h)) * (-3 * f(x) + 4 * f(x + h) - f(x + 2 * h))\n",
    "        \n",
    "    return d\n",
    "\n",
    "derivadaP = DerivadaProgresiva(func, x, h) \n",
    "derivadaP"
   ]
  },
  {
   "cell_type": "code",
   "execution_count": 18,
   "metadata": {},
   "outputs": [
    {
     "data": {
      "text/plain": [
       "1.5963931760920564"
      ]
     },
     "execution_count": 18,
     "metadata": {},
     "output_type": "execute_result"
    }
   ],
   "source": [
    "#Punto D\n",
    "\n",
    "def DerivadaCentral(f,x,h):\n",
    "    \n",
    "    d = 0.\n",
    "    if h != 0:\n",
    "        d = (1 / (2 * h)) * (f(x + h) - f(x - h))\n",
    "        \n",
    "    return d\n",
    "\n",
    "derivadaC = DerivadaCentral(func, x, h)\n",
    "derivadaC"
   ]
  },
  {
   "cell_type": "code",
   "execution_count": null,
   "metadata": {},
   "outputs": [],
   "source": []
  },
  {
   "cell_type": "code",
   "execution_count": null,
   "metadata": {},
   "outputs": [],
   "source": []
  }
 ],
 "metadata": {
  "kernelspec": {
   "display_name": "base",
   "language": "python",
   "name": "python3"
  },
  "language_info": {
   "codemirror_mode": {
    "name": "ipython",
    "version": 3
   },
   "file_extension": ".py",
   "mimetype": "text/x-python",
   "name": "python",
   "nbconvert_exporter": "python",
   "pygments_lexer": "ipython3",
   "version": "3.9.7"
  },
  "orig_nbformat": 4
 },
 "nbformat": 4,
 "nbformat_minor": 2
}
