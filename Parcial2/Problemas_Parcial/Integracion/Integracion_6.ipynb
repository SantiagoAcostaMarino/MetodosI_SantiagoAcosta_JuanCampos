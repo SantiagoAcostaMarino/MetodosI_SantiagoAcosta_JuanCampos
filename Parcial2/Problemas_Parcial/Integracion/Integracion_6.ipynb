{
 "cells": [
  {
   "cell_type": "code",
   "execution_count": 90,
   "metadata": {},
   "outputs": [],
   "source": [
    "import numpy as np\n"
   ]
  },
  {
   "cell_type": "code",
   "execution_count": 91,
   "metadata": {},
   "outputs": [],
   "source": [
    "import numpy as np\n",
    "\n",
    "# Parámetros\n",
    "R = 1.0  # Radio de la semiesfera\n",
    "n  = np.random.randint(10,1000)  # Número de divisiones en cada eje"
   ]
  },
  {
   "cell_type": "code",
   "execution_count": 92,
   "metadata": {},
   "outputs": [],
   "source": [
    "#Grilla\n",
    "x = np.linspace(-R, R, n+1)\n",
    "y = np.linspace(-R, R, n+1)\n",
    "dx = x[1] - x[0]\n",
    "dy = y[1] - y[0]"
   ]
  },
  {
   "cell_type": "code",
   "execution_count": 93,
   "metadata": {},
   "outputs": [],
   "source": [
    "#Funcion de cada vertice\n",
    "def func_vertice (x,y):\n",
    "    if x**2 + y**2 <= 1:\n",
    "        return 1\n",
    "    else: # Si el punto queda fuera de la esfera asumimos que el valor de la funcion f(x; y) es cero.\n",
    "        return 0"
   ]
  },
  {
   "cell_type": "code",
   "execution_count": 94,
   "metadata": {},
   "outputs": [],
   "source": [
    "# Caclular el volumen\n",
    "def volumen_semisfera(n):\n",
    "    volumen = 0.0\n",
    "\n",
    "    # promedio de la función en los vértices de cada cuadrado pequeño.\n",
    "    for i in range(n):\n",
    "        for j in range(n):\n",
    "            x0, x1 = x[i], x[i+1]\n",
    "            y0, y1 = y[j], y[j+1]\n",
    "\n",
    "            # valor promedio de la función en los 4 vértices.\n",
    "            promedio_vertices = (func_vertice(x0, y0) + func_vertice(x0, y1) + func_vertice(x1, y0) + func_vertice(x1, y1))/4\n",
    "    \n",
    "            # Area del cuadrado pequeño.\n",
    "            area = dx * dy\n",
    "\n",
    "            # Sumar el valor promedio multiplicado por el área al volumen total.\n",
    "            volumen += (promedio_vertices * area)\n",
    "\n",
    "    return volumen\n",
    "\n",
    "\n",
    "\n"
   ]
  },
  {
   "cell_type": "code",
   "execution_count": 95,
   "metadata": {},
   "outputs": [
    {
     "data": {
      "text/plain": [
       "3.1411553624625714"
      ]
     },
     "execution_count": 95,
     "metadata": {},
     "output_type": "execute_result"
    }
   ],
   "source": [
    "Volumen = volumen_semisfera(n)\n",
    "Volumen"
   ]
  },
  {
   "cell_type": "code",
   "execution_count": null,
   "metadata": {},
   "outputs": [],
   "source": []
  },
  {
   "cell_type": "code",
   "execution_count": null,
   "metadata": {},
   "outputs": [],
   "source": []
  }
 ],
 "metadata": {
  "kernelspec": {
   "display_name": "base",
   "language": "python",
   "name": "python3"
  },
  "language_info": {
   "codemirror_mode": {
    "name": "ipython",
    "version": 3
   },
   "file_extension": ".py",
   "mimetype": "text/x-python",
   "name": "python",
   "nbconvert_exporter": "python",
   "pygments_lexer": "ipython3",
   "version": "3.9.7"
  },
  "orig_nbformat": 4
 },
 "nbformat": 4,
 "nbformat_minor": 2
}
