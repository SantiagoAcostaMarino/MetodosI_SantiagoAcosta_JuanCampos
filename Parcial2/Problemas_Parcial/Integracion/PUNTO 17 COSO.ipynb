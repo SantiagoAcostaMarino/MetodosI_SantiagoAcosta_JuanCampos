{
 "cells": [
  {
   "cell_type": "code",
   "execution_count": 105,
   "metadata": {},
   "outputs": [],
   "source": [
    "import numpy as np\n",
    "x = sym.Symbol('x',real=True)\n",
    "import sympy as sym\n",
    "def GetNewton(f,df,xn,itmax=10000,precision=1e-14):\n",
    "    \n",
    "    error = 1.\n",
    "    it = 0\n",
    "    \n",
    "    while error >= precision and it < itmax:\n",
    "        \n",
    "        try:\n",
    "            \n",
    "            xn1 = xn - f(xn)/df(xn)\n",
    "            \n",
    "            error = np.abs(f(xn)/df(xn))\n",
    "            \n",
    "        except ZeroDivisionError:\n",
    "            print('Zero Division')\n",
    "            \n",
    "        xn = xn1\n",
    "        it += 1\n",
    "        \n",
    "    if it == itmax:\n",
    "        return False\n",
    "    else:\n",
    "        return xn\n",
    "def GetRoots(f,df,x,tolerancia = 10):\n",
    "\n",
    "    Roots = np.array([])\n",
    "\n",
    "    for i in x:\n",
    "            \n",
    "            root = GetNewton(f,df,i)\n",
    "\n",
    "            if  type(root)!=bool:\n",
    "                croot = np.round( root, tolerancia )\n",
    "                \n",
    "                if croot not in Roots:\n",
    "                    Roots = np.append(Roots, croot)\n",
    "                    \n",
    "    Roots.sort()\n",
    "\n",
    "    return Roots"
   ]
  },
  {
   "cell_type": "code",
   "execution_count": 106,
   "metadata": {},
   "outputs": [],
   "source": [
    "\n",
    "import matplotlib.pyplot as plt\n",
    "def GetLaguerre(n,x):\n",
    "\n",
    "    if n==0:\n",
    "        poly = sym.Number(1)\n",
    "    elif n==1:\n",
    "        poly = 1 - x\n",
    "    else:\n",
    "        poly = ((2*n-1-x)*GetLaguerre(n-1,x)-(n-1)*GetLaguerre(n-2,x))/n\n",
    "   \n",
    "    return sym.expand(poly,x)\n",
    "def GetDLaguerre(n,x):\n",
    "    Pn = GetLaguerre(n,x)\n",
    "    return sym.diff(Pn,x,1)\n",
    "\n",
    "def GetAllRootsGLag(n):\n",
    "\n",
    "    xn = np.linspace(0,n+(n-1)*np.sqrt(n),100)\n",
    "    \n",
    "    Laguerre = []\n",
    "    DLaguerre = []\n",
    "    \n",
    "    for i in range(n+1):\n",
    "        Laguerre.append(GetLaguerre(i,x))\n",
    "        DLaguerre.append(GetDLaguerre(i,x))\n",
    "    \n",
    "    poly = sym.lambdify([x],Laguerre[n],'numpy')\n",
    "    Dpoly = sym.lambdify([x],DLaguerre[n],'numpy')\n",
    "    Roots = GetRoots(poly,Dpoly,xn)\n",
    "\n",
    "    if len(Roots) != n:\n",
    "        ValueError('El número de raíces debe ser igual al n del polinomio.')\n",
    "    \n",
    "    return Roots\n",
    "\n",
    "def GetWeightsGLag(n):\n",
    "\n",
    "    Rootslag = GetAllRootsGLag(n) \n",
    "    Weightslag = []\n",
    "    for i in range(len(Rootslag)):\n",
    "        Laguerre_n1 = GetLaguerre(n + 1, Rootslag[i])\n",
    "        weight = Rootslag[i]/ (((n + 1) **2 )* (Laguerre_n1 ** 2))\n",
    "        Weightslag.append(weight)\n",
    "\n",
    "    \n",
    "    return Weightslag"
   ]
  },
  {
   "cell_type": "code",
   "execution_count": 108,
   "metadata": {},
   "outputs": [
    {
     "name": "stdout",
     "output_type": "stream",
     "text": [
      "7\n"
     ]
    },
    {
     "data": {
      "text/latex": [
       "$\\displaystyle 6.49391891010112$"
      ],
      "text/plain": [
       "6.49391891010112"
      ]
     },
     "execution_count": 108,
     "metadata": {},
     "output_type": "execute_result"
    }
   ],
   "source": [
    "def integral(F,n):\n",
    "    w=GetWeightsGLag(n)\n",
    "    r=GetAllRootsGLag(n)\n",
    "    \n",
    "    Int=0\n",
    "    for i in range(0,n):\n",
    "        Int+= w[i]*F(r[i])\n",
    "    return Int\n",
    "def funtion(x):\n",
    "    Funtion=x**3/(1-np.e**(-1*x))\n",
    "    return Funtion\n",
    "integral(funtion,7)"
   ]
  },
  {
   "cell_type": "code",
   "execution_count": 112,
   "metadata": {},
   "outputs": [
    {
     "name": "stdout",
     "output_type": "stream",
     "text": [
      "2\n",
      "3\n",
      "4\n",
      "5\n",
      "6\n",
      "7\n"
     ]
    },
    {
     "data": {
      "image/png": "[encoded data removed]",
      "text/plain": [
       "<Figure size 640x480 with 1 Axes>"
      ]
     },
     "metadata": {},
     "output_type": "display_data"
    }
   ],
   "source": [
    "INTEGRALES=np.array([])\n",
    "N=np.array([])\n",
    "i=2\n",
    "while i <=7:\n",
    "    INTEGRALES= np.append(INTEGRALES,np.array(integral(funtion,i)/(np.pi**4/15)))\n",
    "    N=np.append(N,i)\n",
    "    i+=1           \n",
    "\n",
    "\n",
    "plt.scatter(N,INTEGRALES)\n",
    "plt.show()"
   ]
  }
 ],
 "metadata": {
  "kernelspec": {
   "display_name": "Python 3",
   "language": "python",
   "name": "python3"
  },
  "language_info": {
   "codemirror_mode": {
    "name": "ipython",
    "version": 3
   },
   "file_extension": ".py",
   "mimetype": "text/x-python",
   "name": "python",
   "nbconvert_exporter": "python",
   "pygments_lexer": "ipython3",
   "version": "3.11.5"
  },
  "orig_nbformat": 4
 },
 "nbformat": 4,
 "nbformat_minor": 2
}
