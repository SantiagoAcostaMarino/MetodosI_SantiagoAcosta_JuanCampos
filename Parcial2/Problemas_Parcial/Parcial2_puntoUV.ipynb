{
 "cells": [
  {
   "cell_type": "code",
   "execution_count": 62,
   "metadata": {},
   "outputs": [
    {
     "data": {
      "text/html": [
       "<style>.container { width:100% !important; }</style>"
      ],
      "text/plain": [
       "<IPython.core.display.HTML object>"
      ]
     },
     "metadata": {},
     "output_type": "display_data"
    }
   ],
   "source": [
    "from IPython.display import display, HTML\n",
    "display(HTML(\"<style>.container { width:100% !important; }</style>\"))\n",
    "import numpy as np\n",
    "import matplotlib.pyplot as plt\n",
    "import sympy as sym\n",
    "sym.init_printing(use_unicode=True)"
   ]
  },
  {
   "cell_type": "code",
   "execution_count": 63,
   "metadata": {},
   "outputs": [],
   "source": [
    "f2 = lambda x: 1/np.sqrt(np.pi) * 2 * x**4 * np.exp(-x**2)"
   ]
  },
  {
   "cell_type": "markdown",
   "metadata": {},
   "source": [
    "punto b"
   ]
  },
  {
   "cell_type": "code",
   "execution_count": 64,
   "metadata": {},
   "outputs": [],
   "source": [
    "def funtion(x):\n",
    "    Funtion=x**3/(1-np.e**(-1*x))\n",
    "    return Funtion\n",
    "\n",
    "def integral_DEN(F,n):\n",
    "    Roots,Weights = np.polynomial.laguerre.laggauss(n)\n",
    "\n",
    "    Int=np.sum(Weights*funtion(Roots))\n",
    "    return Int\n",
    "\n"
   ]
  },
  {
   "cell_type": "code",
   "execution_count": null,
   "metadata": {},
   "outputs": [],
   "source": []
  },
  {
   "cell_type": "code",
   "execution_count": 65,
   "metadata": {},
   "outputs": [],
   "source": [
    "h=6.626*10**-34\n",
    "k=1.3806*10**-23\n",
    "c=3*10**8\n",
    "T=5772\n",
    "landa0=100*10**-9\n",
    "landa1=400*10**-9\n",
    "v_0=c/landa0\n",
    "v_1=c/landa1\n"
   ]
  },
  {
   "cell_type": "markdown",
   "metadata": {},
   "source": [
    "PUNTO A"
   ]
  },
  {
   "cell_type": "code",
   "execution_count": 66,
   "metadata": {},
   "outputs": [],
   "source": [
    "def funtion_e(x):\n",
    "    Funtion=x**3/(np.e**x-1)\n",
    "    return Funtion"
   ]
  },
  {
   "cell_type": "code",
   "execution_count": 67,
   "metadata": {},
   "outputs": [
    {
     "name": "stdout",
     "output_type": "stream",
     "text": [
      "6.2361780093201205 24.944712037280482\n"
     ]
    }
   ],
   "source": [
    "n = 20\n",
    "b=(h*v_0)/(k*T)\n",
    "\n",
    "a=(h*v_1)/(k*T)\n",
    "Roots, Weights = np.polynomial.legendre.leggauss(n)\n",
    "Roots,Weights\n",
    "print(a,b)\n",
    "\n",
    "t = 0.5*( (b-a)*Roots + a + b )\n",
    "\n",
    "Integral_NUM = 0.5*(b-a)*np.sum(Weights*funtion_e(t))\n"
   ]
  },
  {
   "cell_type": "markdown",
   "metadata": {},
   "source": [
    "[punto c]"
   ]
  },
  {
   "cell_type": "code",
   "execution_count": 68,
   "metadata": {},
   "outputs": [],
   "source": [
    "a=(h*v_1)/(k*T)\n",
    "b=(h*v_0)/(k*T)\n",
    "\n",
    "\n"
   ]
  },
  {
   "cell_type": "markdown",
   "metadata": {},
   "source": [
    "PUNTO D"
   ]
  },
  {
   "cell_type": "code",
   "execution_count": 69,
   "metadata": {},
   "outputs": [
    {
     "data": {
      "image/png": "[encoded data removed]",
      "text/latex": [
       "$\\displaystyle 0.121441853975102$"
      ],
      "text/plain": [
       "0.1214418539751019"
      ]
     },
     "execution_count": 69,
     "metadata": {},
     "output_type": "execute_result"
    }
   ],
   "source": [
    "num= Integral_NUM\n",
    "den= integral_DEN(funtion,20)\n",
    "f=num/den\n",
    "f"
   ]
  },
  {
   "cell_type": "markdown",
   "metadata": {},
   "source": [
    "PUNTO E"
   ]
  },
  {
   "cell_type": "markdown",
   "metadata": {},
   "source": [
    "Al suponer que el sol es un cuerpo negro, del que solo deja escapar ciertas longitudes de onda de luz, es visible que las mediciones experimentales varien del aproximamiento teorico, ya que el sol no es un cuerpo negro, adicionalmente estamos tomando un rango especifico de longitudes de onda, ent anto el IDEAM recoge las mediciones de todas las longitudes de onda medibles. Al ser un intervalo más grande, es entendible que el error entre ambos datos sea de esa manera."
   ]
  }
 ],
 "metadata": {
  "kernelspec": {
   "display_name": "Python 3",
   "language": "python",
   "name": "python3"
  },
  "language_info": {
   "codemirror_mode": {
    "name": "ipython",
    "version": 3
   },
   "file_extension": ".py",
   "mimetype": "text/x-python",
   "name": "python",
   "nbconvert_exporter": "python",
   "pygments_lexer": "ipython3",
   "version": "3.11.5"
  },
  "orig_nbformat": 4
 },
 "nbformat": 4,
 "nbformat_minor": 2
}
