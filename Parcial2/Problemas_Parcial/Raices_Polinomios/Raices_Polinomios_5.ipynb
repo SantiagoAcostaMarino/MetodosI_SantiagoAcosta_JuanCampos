{
 "cells": [
  {
   "cell_type": "code",
   "execution_count": 13,
   "metadata": {},
   "outputs": [
    {
     "data": {
      "text/html": [
       "<style>.container { width:100% !important; }</style>"
      ],
      "text/plain": [
       "<IPython.core.display.HTML object>"
      ]
     },
     "metadata": {},
     "output_type": "display_data"
    }
   ],
   "source": [
    "from IPython.display import display, HTML\n",
    "display(HTML(\"<style>.container { width:100% !important; }</style>\"))\n",
    "import numpy as np\n",
    "from scipy import integrate\n",
    "import sympy as sym\n",
    "sym.init_printing(use_unicode=True)"
   ]
  },
  {
   "cell_type": "code",
   "execution_count": 14,
   "metadata": {},
   "outputs": [],
   "source": [
    "# Definir el símbolo y la función de Laguerre\n",
    "x = sym.Symbol('x', real=True)\n",
    "y = sym.Symbol('y',real=True)\n",
    "n = 20  # Número de polinomios de Laguerre\n",
    "\n"
   ]
  },
  {
   "cell_type": "code",
   "execution_count": 15,
   "metadata": {},
   "outputs": [],
   "source": [
    "#Definir la fórmula de Rodrigues \n",
    "def GetLegendre(n, x,y):\n",
    "    y = sym.exp(-x) * x**n\n",
    "    Laguerre = y / (sym.factorial(n) * sym.diff(y, x, n))\n",
    "    return Laguerre"
   ]
  },
  {
   "cell_type": "code",
   "execution_count": 16,
   "metadata": {},
   "outputs": [],
   "source": [
    "Legendre = []\n",
    "DLegendre = []\n",
    "\n",
    "for i in range(n+1):\n",
    "    Poly = GetLegendre(n,x,y)\n",
    "    Legendre.append(Poly)\n",
    "    DLegendre.append(sym.diff(Poly,x,1))"
   ]
  },
  {
   "cell_type": "code",
   "execution_count": 17,
   "metadata": {},
   "outputs": [],
   "source": [
    "def GetNewton(f,df,xn,itmax=10000,precision=1e-14):\n",
    "    \n",
    "    error = 1.\n",
    "    it = 0\n",
    "    \n",
    "    while error >= precision and it < itmax:\n",
    "        \n",
    "        try:\n",
    "            \n",
    "            xn1 = xn - f(xn)/df(xn)\n",
    "            \n",
    "            error = np.abs(f(xn)/df(xn))\n",
    "            \n",
    "        except ZeroDivisionError:\n",
    "            print('Zero Division')\n",
    "            \n",
    "        xn = xn1\n",
    "        it += 1\n",
    "        \n",
    "    if it == itmax:\n",
    "        return False\n",
    "    else:\n",
    "        return xn"
   ]
  },
  {
   "cell_type": "code",
   "execution_count": 18,
   "metadata": {},
   "outputs": [],
   "source": [
    "def obtener_raices(f,df,x,tolerancia = 14):\n",
    "    \n",
    "    Roots = np.array([])\n",
    "    \n",
    "    for i in x:\n",
    "        \n",
    "        root = GetNewton(f,df,i)\n",
    "        \n",
    "        if root != False:\n",
    "            \n",
    "            croot = np.round( root, tolerancia )\n",
    "            \n",
    "            if croot not in Roots:\n",
    "                Roots = np.append(Roots, croot)\n",
    "                \n",
    "    Roots.sort()\n",
    "    \n",
    "    return Roots"
   ]
  },
  {
   "cell_type": "code",
   "execution_count": 19,
   "metadata": {},
   "outputs": [],
   "source": [
    "def Veinte_Raices(n,xn,Legendre,DLegendre):\n",
    "    poly = sym.lambdify([x], Legendre[n], 'numpy')\n",
    "    Dpoly = sym.lambdify([x], DLegendre[n], 'numpy')\n",
    "    Roots = obtener_raices(poly, Dpoly, xn)[:20]  # Tomar solo las primeras 20 raíces\n",
    "    return Roots\n",
    "\n",
    "    \n"
   ]
  },
  {
   "cell_type": "code",
   "execution_count": 20,
   "metadata": {},
   "outputs": [],
   "source": [
    "def Obtener_Pesos(Roots,DLegendre):\n",
    "    \n",
    "    Dpoly = sym.lambdify([x],DLegendre[n],'numpy')\n",
    "    Pesos = 2/((1-Roots**2)*Dpoly(Roots)**2)\n",
    "    \n",
    "    return Pesos\n",
    "  "
   ]
  },
  {
   "cell_type": "code",
   "execution_count": 21,
   "metadata": {},
   "outputs": [],
   "source": [
    "#Intervalo 0<x<infinito\n",
    "xn = np.linspace(0, np.inf, 1000)\n"
   ]
  },
  {
   "cell_type": "code",
   "execution_count": 22,
   "metadata": {},
   "outputs": [
    {
     "name": "stderr",
     "output_type": "stream",
     "text": [
      "<lambdifygenerated-3>:2: RuntimeWarning: invalid value encountered in double_scalars\n",
      "  return (1/2432902008176640000)*x**20/(x**20 - 400*x**19 + 72200*x**18 - 7797600*x**17 + 563376600*x**16 - 28844881920*x**15 + 1081683072000*x**14 - 30287126016000*x**13 + 639815537088000*x**12 - 10237048593408000*x**11 + 123868287980236800*x**10 - 1126075345274880000*x**9 + 7601008580605440000*x**8 - 37420349935288320000*x**7 + 130971224773509120000*x**6 - 314330939456421888000*x**5 + 491142092900659200000*x**4 - 462251381553561600000*x**3 + 231125690776780800000*x**2 - 48658040163532800000*x + 2432902008176640000)\n",
      "<lambdifygenerated-4>:2: RuntimeWarning: invalid value encountered in double_scalars\n",
      "  return (1/2432902008176640000)*x**20*(-20*x**19 + 7600*x**18 - 1299600*x**17 + 132559200*x**16 - 9014025600*x**15 + 432673228800*x**14 - 15143563008000*x**13 + 393732638208000*x**12 - 7677786445056000*x**11 + 112607534527488000*x**10 - 1238682879802368000*x**9 + 10134678107473920000*x**8 - 60808068644843520000*x**7 + 261942449547018240000*x**6 - 785827348641054720000*x**5 + 1571654697282109440000*x**4 - 1964568371602636800000*x**3 + 1386754144660684800000*x**2 - 462251381553561600000*x + 48658040163532800000)/(x**20 - 400*x**19 + 72200*x**18 - 7797600*x**17 + 563376600*x**16 - 28844881920*x**15 + 1081683072000*x**14 - 30287126016000*x**13 + 639815537088000*x**12 - 10237048593408000*x**11 + 123868287980236800*x**10 - 1126075345274880000*x**9 + 7601008580605440000*x**8 - 37420349935288320000*x**7 + 130971224773509120000*x**6 - 314330939456421888000*x**5 + 491142092900659200000*x**4 - 462251381553561600000*x**3 + 231125690776780800000*x**2 - 48658040163532800000*x + 2432902008176640000)**2 + (1/121645100408832000)*x**19/(x**20 - 400*x**19 + 72200*x**18 - 7797600*x**17 + 563376600*x**16 - 28844881920*x**15 + 1081683072000*x**14 - 30287126016000*x**13 + 639815537088000*x**12 - 10237048593408000*x**11 + 123868287980236800*x**10 - 1126075345274880000*x**9 + 7601008580605440000*x**8 - 37420349935288320000*x**7 + 130971224773509120000*x**6 - 314330939456421888000*x**5 + 491142092900659200000*x**4 - 462251381553561600000*x**3 + 231125690776780800000*x**2 - 48658040163532800000*x + 2432902008176640000)\n"
     ]
    },
    {
     "data": {
      "text/plain": [
       "array([nan, nan, nan, nan, nan, nan, nan, nan, nan, nan, nan, nan, nan,\n",
       "       nan, nan, nan, nan, nan, nan, nan])"
      ]
     },
     "execution_count": 22,
     "metadata": {},
     "output_type": "execute_result"
    }
   ],
   "source": [
    "Raices20 = Veinte_Raices (n,xn, Legendre,DLegendre)\n",
    "Raices20"
   ]
  },
  {
   "cell_type": "code",
   "execution_count": 23,
   "metadata": {},
   "outputs": [
    {
     "ename": "NameError",
     "evalue": "name 'Raices_20' is not defined",
     "output_type": "error",
     "traceback": [
      "\u001b[1;31m---------------------------------------------------------------------------\u001b[0m",
      "\u001b[1;31mNameError\u001b[0m                                 Traceback (most recent call last)",
      "\u001b[1;32m~\\AppData\\Local\\Temp/ipykernel_48560/1349640404.py\u001b[0m in \u001b[0;36m<module>\u001b[1;34m\u001b[0m\n\u001b[1;32m----> 1\u001b[1;33m \u001b[0mPesos_Raices20\u001b[0m \u001b[1;33m=\u001b[0m \u001b[0mObtener_Pesos\u001b[0m\u001b[1;33m(\u001b[0m\u001b[0mRaices_20\u001b[0m\u001b[1;33m,\u001b[0m\u001b[0mDLegendre\u001b[0m\u001b[1;33m)\u001b[0m\u001b[1;33m\u001b[0m\u001b[1;33m\u001b[0m\u001b[0m\n\u001b[0m\u001b[0;32m      2\u001b[0m \u001b[0mPesos_Raices20\u001b[0m\u001b[1;33m\u001b[0m\u001b[1;33m\u001b[0m\u001b[0m\n",
      "\u001b[1;31mNameError\u001b[0m: name 'Raices_20' is not defined"
     ]
    }
   ],
   "source": [
    "Pesos_Raices20 = Obtener_Pesos(Raices_20,DLegendre)\n",
    "Pesos_Raices20"
   ]
  },
  {
   "cell_type": "code",
   "execution_count": null,
   "metadata": {},
   "outputs": [],
   "source": []
  },
  {
   "cell_type": "code",
   "execution_count": null,
   "metadata": {},
   "outputs": [],
   "source": []
  },
  {
   "cell_type": "code",
   "execution_count": null,
   "metadata": {},
   "outputs": [],
   "source": []
  }
 ],
 "metadata": {
  "kernelspec": {
   "display_name": "base",
   "language": "python",
   "name": "python3"
  },
  "language_info": {
   "codemirror_mode": {
    "name": "ipython",
    "version": 3
   },
   "file_extension": ".py",
   "mimetype": "text/x-python",
   "name": "python",
   "nbconvert_exporter": "python",
   "pygments_lexer": "ipython3",
   "version": "3.9.7"
  },
  "orig_nbformat": 4
 },
 "nbformat": 4,
 "nbformat_minor": 2
}
