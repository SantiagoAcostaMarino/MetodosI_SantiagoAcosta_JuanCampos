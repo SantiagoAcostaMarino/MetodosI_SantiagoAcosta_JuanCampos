{
 "cells": [
  {
   "cell_type": "markdown",
   "metadata": {},
   "source": [
    "Punto 23"
   ]
  },
  {
   "cell_type": "code",
   "execution_count": 489,
   "metadata": {},
   "outputs": [],
   "source": [
    "import numpy as np"
   ]
  },
  {
   "cell_type": "code",
   "execution_count": 490,
   "metadata": {},
   "outputs": [],
   "source": [
    "Matriz=np.array([[0.2,0.1,1,1,0],[0.1,4,-1,1,-1],[1,-1,60,0,-2],[1,1,0,8,4],[0,-1,-2,4,700]])\n",
    "Matriz\n",
    "b=np.array([1,2,3,4,5])\n"
   ]
  },
  {
   "cell_type": "code",
   "execution_count": 491,
   "metadata": {},
   "outputs": [],
   "source": [
    "def descenso_conjugado(A,B,X_0,e=0.01):\n",
    "    r_0=np.dot(A,X_0)-B\n",
    "    p_0=-1*r_0\n",
    "    k=0\n",
    "    Alpha=0\n",
    "    Beta=0\n",
    "    X_1=0\n",
    "    d=1.\n",
    "    while d>e :\n",
    "       \n",
    "        \n",
    "        \n",
    "        Alpha= (-1*np.dot(np.transpose(r_0),p_0)/(np.dot(np.dot(np.transpose(p_0),A),p_0)))\n",
    "        \n",
    "        \n",
    "        X_1=X_0+np.dot(Alpha,p_0)\n",
    "        \n",
    "        \n",
    "        r_0=np.dot(A,X_1)-B\n",
    "        \n",
    "        \n",
    "        \n",
    "        \n",
    "        Beta=(np.dot(np.dot(np.transpose(r_0),A),p_0)/(np.dot(np.dot(np.transpose(p_0),A),p_0)))\n",
    "        \n",
    "       \n",
    "        \n",
    "        \n",
    "        p_0=(-1*r_0)+np.dot(Beta,p_0)\n",
    "\n",
    "        \n",
    "        diff = (X_1 - X_0)\n",
    "        k+=1\n",
    "        d = np.max(np.abs(diff) )\n",
    "        X_0=X_1\n",
    "    \n",
    "        print(d)\n",
    "        \n",
    "    return X_0,k\n",
    "    "
   ]
  },
  {
   "cell_type": "code",
   "execution_count": 492,
   "metadata": {},
   "outputs": [
    {
     "name": "stdout",
     "output_type": "stream",
     "text": [
      "0.015041624276634616\n",
      "0.17219637518624575\n",
      "0.3096293290494009\n",
      "0.2231189406930279\n",
      "7.553720373219057\n",
      "5.854867233395789e-10\n"
     ]
    },
    {
     "data": {
      "text/plain": [
       "(array([ 7.85971308,  0.42292641, -0.07359224, -0.54064302,  0.01062616]), 6)"
      ]
     },
     "execution_count": 492,
     "metadata": {},
     "output_type": "execute_result"
    }
   ],
   "source": [
    "descenso_conjugado(Matriz,b,[0,0,0,0,0])"
   ]
  },
  {
   "cell_type": "markdown",
   "metadata": {},
   "source": [
    "La solución del sistema es 7.85971308,  0.42292641, -0.07359224, -0.54064302,  0.01062616"
   ]
  },
  {
   "cell_type": "markdown",
   "metadata": {},
   "source": [
    "Punto 22"
   ]
  },
  {
   "cell_type": "code",
   "execution_count": null,
   "metadata": {},
   "outputs": [],
   "source": []
  },
  {
   "cell_type": "code",
   "execution_count": 493,
   "metadata": {},
   "outputs": [],
   "source": [
    "def funcion(x):\n",
    "    Funcion=np.sin(x)**6+(729/100)*np.sin(x)**2-(729/100)\n",
    "    return Funcion"
   ]
  },
  {
   "cell_type": "code",
   "execution_count": 494,
   "metadata": {},
   "outputs": [
    {
     "data": {
      "text/plain": [
       "-5.345898557607143"
      ]
     },
     "execution_count": 494,
     "metadata": {},
     "output_type": "execute_result"
    }
   ],
   "source": [
    "def Derivative(f,x,h=1e-6):\n",
    "    return (f(x+h)-f(x-h))/(2*h)\n",
    "\n",
    "Derivative(funcion,5)"
   ]
  },
  {
   "cell_type": "code",
   "execution_count": 495,
   "metadata": {},
   "outputs": [],
   "source": [
    "def GetNewtonMethod(f,df,xn,itmax=100,precision=1e-8):\n",
    "    \n",
    "    error = 1.\n",
    "    it = 0\n",
    "    \n",
    "    while error > precision and it < itmax:\n",
    "        \n",
    "        try:\n",
    "            \n",
    "            xn1 = xn - f(xn)/df(f,xn)\n",
    "            # Criterio de parada\n",
    "            error = np.abs(f(xn)/df(f,xn))\n",
    "            \n",
    "        except ZeroDivisionError:\n",
    "            print('Division por cero')\n",
    "            \n",
    "        xn = xn1\n",
    "        it += 1\n",
    "        \n",
    "   # print('Raiz',xn,it)\n",
    "    \n",
    "    if it == itmax:\n",
    "        return False\n",
    "    else:\n",
    "        return xn"
   ]
  },
  {
   "cell_type": "code",
   "execution_count": null,
   "metadata": {},
   "outputs": [],
   "source": []
  },
  {
   "cell_type": "code",
   "execution_count": 496,
   "metadata": {},
   "outputs": [],
   "source": [
    "def GetAllRoots(x, tolerancia=10):\n",
    "    \n",
    "    Roots = np.array([])\n",
    "    \n",
    "    for i in x:\n",
    "        \n",
    "        root = GetNewtonMethod(funcion,Derivative,i)\n",
    "        \n",
    "        if root != False:\n",
    "            \n",
    "            croot = np.round(root, tolerancia)\n",
    "            \n",
    "            if croot not in Roots:\n",
    "                Roots = np.append(Roots,croot)\n",
    "                \n",
    "    Roots.sort()\n",
    "    \n",
    "    return Roots"
   ]
  },
  {
   "cell_type": "code",
   "execution_count": 498,
   "metadata": {},
   "outputs": [
    {
     "data": {
      "text/plain": [
       "array([ -1.24904577,   1.24904577,   1.89254688,   5.03413953,\n",
       "       500.76227769])"
      ]
     },
     "execution_count": 498,
     "metadata": {},
     "output_type": "execute_result"
    }
   ],
   "source": [
    "x = np.linspace(0.001,0.25*np.pi,10)\n",
    "Roots = GetAllRoots(x)\n",
    "Roots"
   ]
  },
  {
   "cell_type": "markdown",
   "metadata": {},
   "source": [
    "como 71 es mucho mayor a 1/4*pi me voy a dar la libertad de quitarla"
   ]
  },
  {
   "cell_type": "markdown",
   "metadata": {},
   "source": []
  },
  {
   "cell_type": "code",
   "execution_count": null,
   "metadata": {},
   "outputs": [],
   "source": []
  },
  {
   "cell_type": "code",
   "execution_count": null,
   "metadata": {},
   "outputs": [],
   "source": []
  }
 ],
 "metadata": {
  "kernelspec": {
   "display_name": "Python 3",
   "language": "python",
   "name": "python3"
  },
  "language_info": {
   "codemirror_mode": {
    "name": "ipython",
    "version": 3
   },
   "file_extension": ".py",
   "mimetype": "text/x-python",
   "name": "python",
   "nbconvert_exporter": "python",
   "pygments_lexer": "ipython3",
   "version": "3.11.6"
  }
 },
 "nbformat": 4,
 "nbformat_minor": 2
}
