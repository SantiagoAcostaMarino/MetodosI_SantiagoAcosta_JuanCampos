{
 "cells": [
  {
   "cell_type": "code",
   "execution_count": 40,
   "metadata": {},
   "outputs": [],
   "source": [
    "import numpy as np"
   ]
  },
  {
   "cell_type": "code",
   "execution_count": 41,
   "metadata": {},
   "outputs": [],
   "source": [
    "\n",
    "def algoritmo_de_potencia_inversa(H, max_iterations=1000, tolerance=1e-6):\n",
    "    # Definir un vector inicial para el cálculo (puede ser cualquier vector no nulo)\n",
    "    n = H.shape[0]\n",
    "    v = np.random.rand(n)\n",
    "    \n",
    "    for i in range(max_iterations):\n",
    "        # Resuelve el sistema de ecuaciones lineales para encontrar v'\n",
    "        v_prime = np.linalg.solve(H, v)\n",
    "        \n",
    "        # Normaliza v' para evitar crecimiento exponencial\n",
    "        v_prime /= np.linalg.norm(v_prime)\n",
    "        \n",
    "        # Calcula el valor propio correspondiente a v' (E')\n",
    "        eigenvalue = np.dot(v_prime, np.dot(H, v_prime))\n",
    "        \n",
    "        # Comprueba la convergencia\n",
    "        if np.linalg.norm(v - v_prime) < tolerance:\n",
    "            break\n",
    "        \n",
    "        # Actualiza v\n",
    "        v = v_prime\n",
    "\n",
    "    # El valor propio más pequeño E0 es el inverso del valor propio encontrado\n",
    "    E0 = 1 / eigenvalue\n",
    "\n",
    "    # El vector propio v0 es v normalizado\n",
    "    v0 = -v\n",
    "\n",
    "    return E0, v0\n",
    "\n"
   ]
  },
  {
   "cell_type": "code",
   "execution_count": 42,
   "metadata": {},
   "outputs": [
    {
     "name": "stdout",
     "output_type": "stream",
     "text": [
      "El estado base E0 es: 1.0000040517855158\n",
      "El vector propio v0 es: [ 0.40824799 -0.40824979 -0.81649598]\n"
     ]
    }
   ],
   "source": [
    "#matriz Hamiltoniana H\n",
    "H = np.array([[1, 2, -1],\n",
    "              [1, 0, 1],\n",
    "              [4, -4, 5]])\n",
    "\n",
    "\n",
    "E0, v0 = algoritmo_de_potencia_inversa(H)\n",
    "\n",
    "print(\"El estado base E0 es:\", E0)\n",
    "print(\"El vector propio v0 es:\", v0)\n"
   ]
  },
  {
   "cell_type": "code",
   "execution_count": null,
   "metadata": {},
   "outputs": [],
   "source": []
  }
 ],
 "metadata": {
  "kernelspec": {
   "display_name": "base",
   "language": "python",
   "name": "python3"
  },
  "language_info": {
   "codemirror_mode": {
    "name": "ipython",
    "version": 3
   },
   "file_extension": ".py",
   "mimetype": "text/x-python",
   "name": "python",
   "nbconvert_exporter": "python",
   "pygments_lexer": "ipython3",
   "version": "3.9.7"
  }
 },
 "nbformat": 4,
 "nbformat_minor": 2
}
