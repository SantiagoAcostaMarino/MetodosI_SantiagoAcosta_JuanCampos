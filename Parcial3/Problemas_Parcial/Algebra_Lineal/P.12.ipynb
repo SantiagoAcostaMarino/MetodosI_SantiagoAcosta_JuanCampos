{
 "cells": [
  {
   "cell_type": "code",
   "execution_count": 3,
   "metadata": {},
   "outputs": [],
   "source": [
    "import numpy as np\n"
   ]
  },
  {
   "cell_type": "code",
   "execution_count": 4,
   "metadata": {},
   "outputs": [],
   "source": [
    "# Definimos las funciones que representan los sistemas de ecuaciones\n",
    "def GetF(G, r):\n",
    "    n = r.shape[0]\n",
    "    v = np.zeros_like(r)\n",
    "    for i in range(n):\n",
    "        v[i] = G[i](*r)\n",
    "    return v\n",
    "\n",
    "def GetJacobian(f, r, h=1e-6):\n",
    "    n = r.shape[0]\n",
    "    J = np.zeros((n, n))\n",
    "    for i in range(n):\n",
    "        for j in range(n):\n",
    "            rf = r.copy()\n",
    "            rb = r.copy()\n",
    "            rf[j] = rf[j] + h\n",
    "            rb[j] = rb[j] - h\n",
    "            J[i, j] = (f[i](rf[0], *rf[1:]) - f[i](rb[0], *rb[1:])) / (2*h)\n",
    "    return J\n",
    "\n",
    "def NewtonRaphson(G, r, itmax=1000, error=1e-9):\n",
    "    it = 0\n",
    "    d = 1.\n",
    "    dvector = []\n",
    "    while d > error and it < itmax:\n",
    "        rc = r\n",
    "        F = GetF(G, rc)\n",
    "        J = GetJacobian(G, rc)\n",
    "        InvJ = np.linalg.inv(J)\n",
    "        r = rc - np.dot(InvJ, F)\n",
    "        diff = r - rc\n",
    "        d = np.max(np.abs(diff))\n",
    "        dvector.append(d)\n",
    "        it += 1\n",
    "    return r, dvector\n",
    "\n",
    "\n"
   ]
  },
  {
   "cell_type": "code",
   "execution_count": 5,
   "metadata": {},
   "outputs": [
    {
     "name": "stdout",
     "output_type": "stream",
     "text": [
      "Solución para el sistema 1: [1.22754223 2.42614993]\n"
     ]
    }
   ],
   "source": [
    "# Sistema de ecuaciones 1\n",
    "G1 = [lambda x1, x2: np.log(x1**2 + x2**2) - np.sin(x1*x2) - (np.log(2) + np.log(np.pi)),\n",
    "      lambda x1, x2: np.exp(x1) - x2 + np.cos(x1*x2)]\n",
    "\n",
    "x0_1 = np.array([2.0, 2.0])\n",
    "sol1, _ = NewtonRaphson(G1, x0_1)\n",
    "print(\"Solución para el sistema 1:\", sol1)"
   ]
  },
  {
   "cell_type": "code",
   "execution_count": 6,
   "metadata": {},
   "outputs": [
    {
     "name": "stdout",
     "output_type": "stream",
     "text": [
      "Solución para el sistema 2: [ 0.49814468 -0.1996059  -0.52882598]\n"
     ]
    }
   ],
   "source": [
    "# Sistema de ecuaciones 2\n",
    "G2 = [lambda x1, x2, x3: 6*x1 - 2*np.cos(x2*x3) - 1,\n",
    "      lambda x1, x2, x3: 9*x2 + np.sqrt(x1**2 + np.sin(x3) + 1.06) + 0.9,\n",
    "      lambda x1, x2, x3: 60*x3 + 3*np.exp(-x1*x2) + 10*np.pi - 3]\n",
    "\n",
    "x0_2 = np.array([0.0, 0.0, 0.0])\n",
    "sol2, _ = NewtonRaphson(G2, x0_2)\n",
    "print(\"Solución para el sistema 2:\", sol2)"
   ]
  }
 ],
 "metadata": {
  "kernelspec": {
   "display_name": "base",
   "language": "python",
   "name": "python3"
  },
  "language_info": {
   "codemirror_mode": {
    "name": "ipython",
    "version": 3
   },
   "file_extension": ".py",
   "mimetype": "text/x-python",
   "name": "python",
   "nbconvert_exporter": "python",
   "pygments_lexer": "ipython3",
   "version": "3.9.7"
  }
 },
 "nbformat": 4,
 "nbformat_minor": 2
}
