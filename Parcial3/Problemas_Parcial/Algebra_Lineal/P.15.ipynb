{
 "cells": [
  {
   "cell_type": "code",
   "execution_count": 15,
   "metadata": {},
   "outputs": [],
   "source": [
    "import sympy as sym"
   ]
  },
  {
   "cell_type": "code",
   "execution_count": 16,
   "metadata": {},
   "outputs": [
    {
     "name": "stdout",
     "output_type": "stream",
     "text": [
      "[AM1, AM2] = Matrix([[2*I, 0], [0, -2*I]])\n",
      "[AM1, AM3] = Matrix([[0, -2], [2, 0]])\n",
      "[AM2, AM1] = Matrix([[-2*I, 0], [0, 2*I]])\n",
      "[AM2, AM3] = Matrix([[0, 2*I], [2*I, 0]])\n",
      "[AM3, AM1] = Matrix([[0, 2], [-2, 0]])\n",
      "[AM3, AM2] = Matrix([[0, -2*I], [-2*I, 0]])\n"
     ]
    }
   ],
   "source": [
    "\n",
    "i = sym.I\n",
    "\n",
    "MAx = sym.Matrix([[0, 1], [1, 0]])\n",
    "MAy = sym.Matrix([[0, -i], [i, 0]])\n",
    "MAz = sym.Matrix([[1, 0], [0, -1]])\n",
    "\n",
    "AM = [MAx, MAy, MAz]\n",
    "\n",
    "def conmutador(A, B):\n",
    "    return A * B - B * A\n",
    "\n",
    "def verificar_algebra_su2():\n",
    "    epsilon = sym.symbols('epsilon')\n",
    "    for i in range(3):\n",
    "        for j in range(3):\n",
    "            if j != i:\n",
    "                commutator = conmutador(AM[i], AM[j])\n",
    "                result = sym.limit(commutator, epsilon, 0)\n",
    "                print(f\"[AM{i+1}, AM{j+1}] = {result}\")\n",
    "\n",
    "verificar_algebra_su2()\n",
    "\n"
   ]
  },
  {
   "cell_type": "code",
   "execution_count": null,
   "metadata": {},
   "outputs": [],
   "source": []
  },
  {
   "cell_type": "code",
   "execution_count": null,
   "metadata": {},
   "outputs": [],
   "source": []
  }
 ],
 "metadata": {
  "kernelspec": {
   "display_name": "base",
   "language": "python",
   "name": "python3"
  },
  "language_info": {
   "codemirror_mode": {
    "name": "ipython",
    "version": 3
   },
   "file_extension": ".py",
   "mimetype": "text/x-python",
   "name": "python",
   "nbconvert_exporter": "python",
   "pygments_lexer": "ipython3",
   "version": "3.9.7"
  }
 },
 "nbformat": 4,
 "nbformat_minor": 2
}
