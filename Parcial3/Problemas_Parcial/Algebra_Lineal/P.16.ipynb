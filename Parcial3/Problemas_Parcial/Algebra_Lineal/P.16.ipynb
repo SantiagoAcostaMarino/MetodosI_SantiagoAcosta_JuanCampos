{
 "cells": [
  {
   "cell_type": "code",
   "execution_count": 1,
   "metadata": {},
   "outputs": [],
   "source": [
    "import sympy as sym"
   ]
  },
  {
   "cell_type": "code",
   "execution_count": 2,
   "metadata": {},
   "outputs": [
    {
     "name": "stdout",
     "output_type": "stream",
     "text": [
      "(0, 1) Matrix([[0, 0, 0, 2], [0, 0, 2, 0], [0, 2, 0, 0], [2, 0, 0, 0]])\n",
      "(0, 2) Matrix([[0, 0, 0, -2*I], [0, 0, 2*I, 0], [0, -2*I, 0, 0], [2*I, 0, 0, 0]])\n",
      "(0, 3) Matrix([[0, 0, 2, 0], [0, 0, 0, -2], [2, 0, 0, 0], [0, -2, 0, 0]])\n",
      "(1, 0) Matrix([[0, 0, 0, -2], [0, 0, -2, 0], [0, -2, 0, 0], [-2, 0, 0, 0]])\n",
      "(1, 2) Matrix([[-2*I, 0, 0, 0], [0, 2*I, 0, 0], [0, 0, -2*I, 0], [0, 0, 0, 2*I]])\n",
      "(1, 3) Matrix([[0, 2, 0, 0], [-2, 0, 0, 0], [0, 0, 0, 2], [0, 0, -2, 0]])\n",
      "(2, 0) Matrix([[0, 0, 0, 2*I], [0, 0, -2*I, 0], [0, 2*I, 0, 0], [-2*I, 0, 0, 0]])\n",
      "(2, 1) Matrix([[2*I, 0, 0, 0], [0, -2*I, 0, 0], [0, 0, 2*I, 0], [0, 0, 0, -2*I]])\n",
      "(2, 3) Matrix([[0, -2*I, 0, 0], [-2*I, 0, 0, 0], [0, 0, 0, -2*I], [0, 0, -2*I, 0]])\n",
      "(3, 0) Matrix([[0, 0, -2, 0], [0, 0, 0, 2], [-2, 0, 0, 0], [0, 2, 0, 0]])\n",
      "(3, 1) Matrix([[0, -2, 0, 0], [2, 0, 0, 0], [0, 0, 0, -2], [0, 0, 2, 0]])\n",
      "(3, 2) Matrix([[0, 2*I, 0, 0], [2*I, 0, 0, 0], [0, 0, 0, 2*I], [0, 0, 2*I, 0]])\n",
      "Verificando la relación de anticonmutación:\n",
      "False\n",
      "False\n"
     ]
    }
   ],
   "source": [
    "import sympy as sym\n",
    "\n",
    "i = sym.I\n",
    "\n",
    "G0 = sym.Matrix([[1, 0, 0, 0],\n",
    "                [0, 1, 0, 0],\n",
    "                [0, 0, -1, 0],\n",
    "                [0, 0, 0, -1]])\n",
    "\n",
    "G1 = sym.Matrix([[0, 0, 0, 1],\n",
    "                [0, 0, 1, 0],\n",
    "                [0, -1, 0, 0],\n",
    "                [-1, 0, 0, 0]])\n",
    "\n",
    "G2 = sym.Matrix([[0, 0, 0, -i],\n",
    "                [0, 0, i, 0],\n",
    "                [0, i, 0, 0],\n",
    "                [-i, 0, 0, 0]])\n",
    "\n",
    "G3 = sym.Matrix([[0, 0, 1, 0],\n",
    "                [0, 0, 0, -1],\n",
    "                [-1, 0, 0, 0],\n",
    "                [0, 1, 0, 0]])\n",
    "\n",
    "\n",
    "AG = [G0, G1, G2, G3]\n",
    "\n",
    "def anticonmutador(A, B):\n",
    "    return A * B - B * A\n",
    "\n",
    "def anticonit():\n",
    "    for i in range(4):\n",
    "        for j in range(4):\n",
    "            if j != i:\n",
    "                print((i, j), anticonmutador(AG[i], AG[j]))\n",
    "\n",
    "anticonit()\n",
    "\n",
    "# Verificar la relación de anticonmutación\n",
    "I4 = sym.eye(4)\n",
    "alpha = [sym.symbols(f'alpha{i}') for i in range(4)]\n",
    "beta = [sym.symbols(f'beta{i}') for i in range(4)]\n",
    "\n",
    "lhs1 = anticonmutador(AG[0], AG[1])\n",
    "rhs1 = 2 * alpha[0] * I4\n",
    "eq1 = sym.Eq(lhs1, rhs1)\n",
    "\n",
    "lhs2 = anticonmutador(AG[2], AG[3])\n",
    "rhs2 = 2 * beta[0] * I4\n",
    "eq2 = sym.Eq(lhs2, rhs2)\n",
    "\n",
    "print(\"Verificando la relación de anticonmutación:\")\n",
    "print(eq1)\n",
    "print(eq2)\n",
    "\n"
   ]
  }
 ],
 "metadata": {
  "kernelspec": {
   "display_name": "base",
   "language": "python",
   "name": "python3"
  },
  "language_info": {
   "codemirror_mode": {
    "name": "ipython",
    "version": 3
   },
   "file_extension": ".py",
   "mimetype": "text/x-python",
   "name": "python",
   "nbconvert_exporter": "python",
   "pygments_lexer": "ipython3",
   "version": "3.9.7"
  }
 },
 "nbformat": 4,
 "nbformat_minor": 2
}
