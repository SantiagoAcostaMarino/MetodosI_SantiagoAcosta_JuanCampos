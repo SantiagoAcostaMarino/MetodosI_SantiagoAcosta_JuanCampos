{
 "cells": [
  {
   "cell_type": "code",
   "execution_count": 78,
   "metadata": {},
   "outputs": [],
   "source": [
    "#from IPython.display import display, HTML\n",
    "#display(HTML(\"<style>.container { width:100% !important; }</style>\"))\n",
    "# %matplotlib notebook\n",
    "%matplotlib ipympl \n",
    "import numpy as np\n",
    "import matplotlib.pyplot as plt\n",
    "from mpl_toolkits.mplot3d import axes3d\n",
    "import matplotlib.animation as animation\n",
    "from tqdm import tqdm"
   ]
  },
  {
   "cell_type": "code",
   "execution_count": 79,
   "metadata": {},
   "outputs": [
    {
     "data": {
      "text/plain": [
       "array([-1.1  ,  1.604])"
      ]
     },
     "execution_count": 79,
     "metadata": {},
     "output_type": "execute_result"
    }
   ],
   "source": [
    "def f2(x,y):\n",
    "    return x**4 + y**4 - 2*(x-y)**2\n",
    "    #return 14*x**2 - 2*x**3 + 2*y**2 + 4*x*y\n",
    "Dx = lambda f,x,y,h=1e-5: (f(x+h,y) - f(x-h,y))/(2*h)\n",
    "Dy = lambda f,x,y,h=1e-5: (f(x,y+h) - f(x,y-h))/(2*h)\n",
    "x0, y0 = 0.5,0.1\n",
    "Gradient = lambda f,x,y: np.array([Dx(f,x,y),Dy(f,x,y)])\n",
    "Gradient(f2,x0,y0)\n",
    "\n",
    "\n",
    "  "
   ]
  },
  {
   "cell_type": "code",
   "execution_count": 80,
   "metadata": {},
   "outputs": [],
   "source": [
    "#Algortimo Original\n",
    "def Minimizer(f, N = 100, gamma = 0.01):\n",
    "    \n",
    "    r = np.zeros((N,2))\n",
    "    r[0] = np.random.uniform(-5.,5.,size=2)\n",
    "    \n",
    "    Grad = np.zeros((N,2))\n",
    "    Grad[0] = Gradient(f,r[0,0],r[0,1])\n",
    "    \n",
    "    # We save the gradient in each step\n",
    "\n",
    "    for i in tqdm(range(1,N)):\n",
    "        r[i] = r[i-1] - gamma*Gradient(f,r[i-1,0],r[i-1,1])\n",
    "        Grad[i] = Gradient(f,r[i-1,0],r[i-1,1])\n",
    "        \n",
    "        \n",
    "    return r,Grad"
   ]
  },
  {
   "cell_type": "code",
   "execution_count": 81,
   "metadata": {},
   "outputs": [],
   "source": [
    "#Algoritmo con momentun \n",
    "\n",
    "def Minimizer_Momentum(f, N=100, alpha=0.001, beta=0.6):\n",
    "    r = np.zeros((N, 2))\n",
    "    r[0] = np.array([0, 3])\n",
    "    \n",
    "    Grad = np.zeros((N, 2))\n",
    "    Grad[0] = Gradient(f, r[0, 0], r[0, 1])\n",
    "    \n",
    "    for i in tqdm(range(1, N)):\n",
    "        gradient = Gradient(f, r[i - 1, 0], r[i - 1, 1])\n",
    "        r[i] = r[i - 1] - alpha * gradient + beta * (r[i - 1] - r[i - 2])\n",
    "        Grad[i] = gradient\n",
    "    \n",
    "    return r, Grad\n",
    "\n",
    "\n"
   ]
  },
  {
   "cell_type": "code",
   "execution_count": 82,
   "metadata": {},
   "outputs": [
    {
     "name": "stderr",
     "output_type": "stream",
     "text": [
      "100%|██████████| 199/199 [00:00<00:00, 38744.21it/s]"
     ]
    },
    {
     "name": "stdout",
     "output_type": "stream",
     "text": [
      "Número de iteraciones sin momentum: 109\n"
     ]
    },
    {
     "name": "stderr",
     "output_type": "stream",
     "text": [
      "\n"
     ]
    }
   ],
   "source": [
    "#Realizamos la comparacion del numero de interaciones del algoritmo original y con momentum\n",
    "\n",
    "# iteraciones original\n",
    "N1 = 200\n",
    "r_original, _ = Minimizer(f2, N1)\n",
    "iterations_original = np.where(np.linalg.norm(r_original[1:] - r_original[:-1], axis=1) < 1e-6)[0][0] + 1\n",
    "print(\"Número de iteraciones sin momentum:\", iterations_original)\n"
   ]
  },
  {
   "cell_type": "code",
   "execution_count": 83,
   "metadata": {},
   "outputs": [
    {
     "name": "stderr",
     "output_type": "stream",
     "text": [
      "100%|██████████| 999/999 [00:00<00:00, 59891.22it/s]\n"
     ]
    },
    {
     "name": "stdout",
     "output_type": "stream",
     "text": [
      "Número de iteraciones con momentum (beta=0.1): 620\n"
     ]
    },
    {
     "name": "stderr",
     "output_type": "stream",
     "text": [
      "100%|██████████| 999/999 [00:00<00:00, 78545.90it/s]\n"
     ]
    },
    {
     "name": "stdout",
     "output_type": "stream",
     "text": [
      "Número de iteraciones con momentum (beta=0.2): 552\n"
     ]
    },
    {
     "name": "stderr",
     "output_type": "stream",
     "text": [
      "100%|██████████| 999/999 [00:00<00:00, 65750.93it/s]\n"
     ]
    },
    {
     "name": "stdout",
     "output_type": "stream",
     "text": [
      "Número de iteraciones con momentum (beta=0.3): 484\n"
     ]
    },
    {
     "name": "stderr",
     "output_type": "stream",
     "text": [
      "100%|██████████| 999/999 [00:00<00:00, 77709.75it/s]\n"
     ]
    },
    {
     "name": "stdout",
     "output_type": "stream",
     "text": [
      "Número de iteraciones con momentum (beta=0.4): 415\n"
     ]
    },
    {
     "name": "stderr",
     "output_type": "stream",
     "text": [
      "100%|██████████| 999/999 [00:00<00:00, 80041.83it/s]\n"
     ]
    },
    {
     "name": "stdout",
     "output_type": "stream",
     "text": [
      "Número de iteraciones con momentum (beta=0.5): 347\n"
     ]
    },
    {
     "name": "stderr",
     "output_type": "stream",
     "text": [
      "100%|██████████| 999/999 [00:00<00:00, 79796.41it/s]\n"
     ]
    },
    {
     "name": "stdout",
     "output_type": "stream",
     "text": [
      "Número de iteraciones con momentum (beta=0.6): 280\n"
     ]
    },
    {
     "name": "stderr",
     "output_type": "stream",
     "text": [
      "100%|██████████| 999/999 [00:00<00:00, 70787.25it/s]\n"
     ]
    },
    {
     "name": "stdout",
     "output_type": "stream",
     "text": [
      "Número de iteraciones con momentum (beta=0.7): 235\n"
     ]
    },
    {
     "name": "stderr",
     "output_type": "stream",
     "text": [
      "100%|██████████| 999/999 [00:00<00:00, 68601.48it/s]\n"
     ]
    },
    {
     "name": "stdout",
     "output_type": "stream",
     "text": [
      "Número de iteraciones con momentum (beta=0.8): 171\n"
     ]
    },
    {
     "name": "stderr",
     "output_type": "stream",
     "text": [
      "100%|██████████| 999/999 [00:00<00:00, 71284.62it/s]"
     ]
    },
    {
     "name": "stdout",
     "output_type": "stream",
     "text": [
      "Número de iteraciones con momentum (beta=0.9): 306\n"
     ]
    },
    {
     "name": "stderr",
     "output_type": "stream",
     "text": [
      "\n"
     ]
    }
   ],
   "source": [
    "# iteraciones momentum\n",
    "N2 = 1000\n",
    "betas = [0.1, 0.2, 0.3, 0.4, 0.5, 0.6, 0.7, 0.8, 0.9]  # Establecemos unas serie de valores de coeficiente de momentum\n",
    "for beta in betas:\n",
    "    r_momentum, _ = Minimizer_Momentum(f2, N2, beta=beta)\n",
    "    \n",
    "    if len(r_momentum) >= 2:\n",
    "        convergence_indices = np.where(np.linalg.norm(r_momentum[1:] - r_momentum[:-1], axis=1) < 1e-6)[0]\n",
    "        if len(convergence_indices) > 0:\n",
    "            iterations_momentum = convergence_indices[0] + 1\n",
    "            print(f\"Número de iteraciones con momentum (beta={beta}): {iterations_momentum}\")\n",
    "        else:\n",
    "            print(f\"No se alcanzó el criterio de convergencia para beta={beta}.\")\n",
    "    else:\n",
    "        print(f\"No se realizaron suficientes iteraciones para beta={beta}.\")\n",
    "\n"
   ]
  },
  {
   "cell_type": "markdown",
   "metadata": {},
   "source": [
    "El numero de iteraciones del algoritmo con momentum es mayor al original en todos los valores de coeficientes con los que se relaizaron los calculos. (Al general un coeficiente de momentum >= 1 el algoritmo fallaba)\n",
    "\n",
    "En comparacion al coeficiente original de momentum (0.6) con un numero total de 280 iteraciones no hay ningun coeficiente para el cual, el algoritmo mejorado converja el doble de rapido, dandose el numero minimo de iteraciones con un coeficiente de 0.8 para un total de 171 iteraciones."
   ]
  }
 ],
 "metadata": {
  "kernelspec": {
   "display_name": "base",
   "language": "python",
   "name": "python3"
  },
  "language_info": {
   "codemirror_mode": {
    "name": "ipython",
    "version": 3
   },
   "file_extension": ".py",
   "mimetype": "text/x-python",
   "name": "python",
   "nbconvert_exporter": "python",
   "pygments_lexer": "ipython3",
   "version": "3.9.7"
  }
 },
 "nbformat": 4,
 "nbformat_minor": 2
}
