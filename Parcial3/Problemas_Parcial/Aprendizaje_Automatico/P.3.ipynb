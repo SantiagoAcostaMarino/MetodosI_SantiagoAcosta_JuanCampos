{
 "cells": [
  {
   "cell_type": "code",
   "execution_count": 3,
   "metadata": {},
   "outputs": [],
   "source": [
    "import numpy as np\n",
    "import matplotlib.pyplot as plt\n",
    "from tqdm import tqdm"
   ]
  },
  {
   "cell_type": "code",
   "execution_count": 4,
   "metadata": {},
   "outputs": [
    {
     "name": "stderr",
     "output_type": "stream",
     "text": [
      "100%|██████████| 299/299 [00:00<00:00, 252130.46it/s]"
     ]
    },
    {
     "name": "stdout",
     "output_type": "stream",
     "text": [
      "Valor final de x: 1.9991860603544607\n",
      "Valor final de f(x): 0.00081393964553933\n"
     ]
    },
    {
     "name": "stderr",
     "output_type": "stream",
     "text": [
      "\n"
     ]
    }
   ],
   "source": [
    "# Definir la función f(x) = |x - 2|\n",
    "def f(x):\n",
    "    return np.abs(x - 2)\n",
    "\n",
    "# Definir el descenso de gradiente\n",
    "def Minimizer(f, N=300, gamma=0.01):\n",
    "    r = np.zeros(N)\n",
    "    r[0] = np.random.uniform(-5, 5)\n",
    "    for i in tqdm(range(1, N)):\n",
    "        r[i] = r[i-1] - gamma * np.sign(r[i-1] - 2)\n",
    "    return r\n",
    "\n",
    "\n",
    "x = Minimizer(f)\n",
    "\n",
    "\n",
    "print(\"Valor final de x:\", x[-1])\n",
    "print(\"Valor final de f(x):\", f(x[-1]))\n"
   ]
  },
  {
   "cell_type": "markdown",
   "metadata": {},
   "source": [
    "Aunque el codigo desarrollado presenta una respuesta al implementarse, matematocamente no es correcto usarlo debido al hecho de que el descenso del gradiente se basa en el cálculo de derivadas parciales para encontrar el gradiente y ajustar iterativamente los valores de x hasta alcanar un minimo, sin embargo esta funcion tiene discontinuidad en x = 2, por lo cual no es posible hallar su derivada al ser un punto no diferenciable.\n",
    "\n",
    " Lo anterior impide determinar la dirección adecuada para la actualización de los parámetros, por lo cual el resultado final podría depender del valor inicial de  x y del tamaño de paso (γ) utilizado.\n",
    "\n"
   ]
  }
 ],
 "metadata": {
  "kernelspec": {
   "display_name": "base",
   "language": "python",
   "name": "python3"
  },
  "language_info": {
   "codemirror_mode": {
    "name": "ipython",
    "version": 3
   },
   "file_extension": ".py",
   "mimetype": "text/x-python",
   "name": "python",
   "nbconvert_exporter": "python",
   "pygments_lexer": "ipython3",
   "version": "3.9.7"
  }
 },
 "nbformat": 4,
 "nbformat_minor": 2
}
