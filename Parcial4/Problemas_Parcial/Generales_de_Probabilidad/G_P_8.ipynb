{
 "cells": [
  {
   "cell_type": "code",
   "execution_count": 2,
   "metadata": {},
   "outputs": [],
   "source": [
    "import numpy as np"
   ]
  },
  {
   "cell_type": "code",
   "execution_count": 5,
   "metadata": {},
   "outputs": [
    {
     "name": "stdout",
     "output_type": "stream",
     "text": [
      "0.3767\n"
     ]
    }
   ],
   "source": [
    "N = 100000\n",
    "\n",
    "resultados = np.zeros((N, 4))\n",
    "\n",
    "#Definir eventos para cara y sello\n",
    "eventos = [-1, 1]\n",
    "\n",
    "for i in range(N):\n",
    "    lanzamiento = np.random.choice(eventos, size=4)\n",
    "    resultados[i] = lanzamiento\n",
    "\n",
    "\n",
    "# Calculamos la probabilidad de obtener dos caras y dos sellos (P(A))\n",
    "count_A = np.sum(np.sum(resultados == 1, axis=1) == 2)\n",
    "prob = count_A / N\n",
    "print(prob)\n",
    "    \n"
   ]
  }
 ],
 "metadata": {
  "kernelspec": {
   "display_name": "base",
   "language": "python",
   "name": "python3"
  },
  "language_info": {
   "codemirror_mode": {
    "name": "ipython",
    "version": 3
   },
   "file_extension": ".py",
   "mimetype": "text/x-python",
   "name": "python",
   "nbconvert_exporter": "python",
   "pygments_lexer": "ipython3",
   "version": "3.9.7"
  }
 },
 "nbformat": 4,
 "nbformat_minor": 2
}
