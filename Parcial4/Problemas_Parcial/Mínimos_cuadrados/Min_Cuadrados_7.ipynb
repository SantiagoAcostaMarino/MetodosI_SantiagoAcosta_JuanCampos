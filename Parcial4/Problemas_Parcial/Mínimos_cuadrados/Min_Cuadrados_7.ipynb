{
 "cells": [
  {
   "cell_type": "code",
   "execution_count": 1,
   "metadata": {},
   "outputs": [],
   "source": [
    "import numpy as np"
   ]
  },
  {
   "cell_type": "code",
   "execution_count": 2,
   "metadata": {},
   "outputs": [
    {
     "name": "stdout",
     "output_type": "stream",
     "text": [
      "Proyección ortogonal usando mínimos cuadrados matriciales: [-2.00000000e+00  3.00000000e+00  4.00000000e+00  1.22124533e-15]\n"
     ]
    }
   ],
   "source": [
    "# Vectores\n",
    "b = np.array([-3, -3, 8, 9])\n",
    "u1 = np.array([3, 1, 0, 1])\n",
    "u2 = np.array([1, 2, 1, 1])\n",
    "u3 = np.array([-1, 0, 2, -1])\n",
    "\n",
    "# Construir la matriz A\n",
    "A = np.vstack([u1, u2, u3]).T\n",
    "\n",
    "# Calcular la solución de mínimos cuadrados\n",
    "x = np.linalg.lstsq(A, b, rcond=None)[0]\n",
    "\n",
    "# Calcular la proyección ortogonal\n",
    "p_W_b = np.dot(A, x)\n",
    "\n",
    "print(\"Proyección ortogonal usando mínimos cuadrados matriciales:\", p_W_b)\n"
   ]
  },
  {
   "cell_type": "code",
   "execution_count": 3,
   "metadata": {},
   "outputs": [
    {
     "name": "stdout",
     "output_type": "stream",
     "text": [
      "Proyección ortogonal usando Gram-Schmidt: [-2.00000000e+00  3.00000000e+00  4.00000000e+00 -1.11022302e-16]\n"
     ]
    }
   ],
   "source": [
    "# Gram-Schmidt\n",
    "v1 = u1\n",
    "v2 = u2 - np.dot(u2, v1) / np.dot(v1, v1) * v1\n",
    "v3 = u3 - np.dot(u3, v1) / np.dot(v1, v1) * v1 - np.dot(u3, v2) / np.dot(v2, v2) * v2\n",
    "\n",
    "# Normalizar los vectores\n",
    "v1 = v1 / np.linalg.norm(v1)\n",
    "v2 = v2 / np.linalg.norm(v2)\n",
    "v3 = v3 / np.linalg.norm(v3)\n",
    "\n",
    "# Calcular los coeficientes de la proyección\n",
    "c1 = np.dot(b, v1)\n",
    "c2 = np.dot(b, v2)\n",
    "c3 = np.dot(b, v3)\n",
    "\n",
    "# Calcular la proyección ortogonal\n",
    "p_W_b_gram_schmidt = c1 * v1 + c2 * v2 + c3 * v3\n",
    "\n",
    "print(\"Proyección ortogonal usando Gram-Schmidt:\", p_W_b_gram_schmidt)\n"
   ]
  },
  {
   "cell_type": "code",
   "execution_count": null,
   "metadata": {},
   "outputs": [],
   "source": []
  }
 ],
 "metadata": {
  "kernelspec": {
   "display_name": "base",
   "language": "python",
   "name": "python3"
  },
  "language_info": {
   "codemirror_mode": {
    "name": "ipython",
    "version": 3
   },
   "file_extension": ".py",
   "mimetype": "text/x-python",
   "name": "python",
   "nbconvert_exporter": "python",
   "pygments_lexer": "ipython3",
   "version": "3.9.7"
  }
 },
 "nbformat": 4,
 "nbformat_minor": 2
}
