{
 "cells": [
  {
   "cell_type": "code",
   "execution_count": 3,
   "metadata": {},
   "outputs": [],
   "source": [
    "from scipy.optimize import minimize\n",
    "from sympy import symbols, Eq, solve\n"
   ]
  },
  {
   "cell_type": "markdown",
   "metadata": {},
   "source": [
    "Use el paquete Scipy.optimize para maximizar el volumen de la caja sujeto a la\n",
    "restriccion de que el area laterial sea 12 cm2."
   ]
  },
  {
   "cell_type": "code",
   "execution_count": 4,
   "metadata": {},
   "outputs": [
    {
     "name": "stdout",
     "output_type": "stream",
     "text": [
      "Dimensiones que maximizan el volumen:\n",
      "x = 1.9999999968828845 cm\n",
      "y = 1.9999999490082523 cm\n",
      "z = 1.0000000270544307 cm\n",
      "Volumen máximo: 3.9999999999999933 cm³\n"
     ]
    }
   ],
   "source": [
    "# Definir la función de volumen y su restricción\n",
    "def volume(xyz):\n",
    "    x, y, z = xyz\n",
    "    return -x * y * z  # Se utiliza el negativo ya que minimize realiza minimización y queremos maximizar\n",
    "\n",
    "def constraint(xyz):\n",
    "    x, y, z = xyz\n",
    "    return x * y + 2 * x * z + 2 * y * z - 12  # Restricción: xy + 2xz + 2yz - 12 = 0\n",
    "\n",
    "# Suposición inicial para x, y, z\n",
    "initial_guess = [1, 1, 1]\n",
    "\n",
    "# Definir la restricción de igualdad\n",
    "constraint_definition = {'type': 'eq', 'fun': constraint}\n",
    "\n",
    "# Realizar la optimización\n",
    "result = minimize(volume, initial_guess, constraints=constraint_definition, method='SLSQP')\n",
    "\n",
    "# Imprimir los resultados\n",
    "print(\"Dimensiones que maximizan el volumen:\")\n",
    "print(f\"x = {result.x[0]} cm\")\n",
    "print(f\"y = {result.x[1]} cm\")\n",
    "print(f\"z = {result.x[2]} cm\")\n",
    "print(\"Volumen máximo:\", -result.fun, \"cm³\")\n"
   ]
  },
  {
   "cell_type": "markdown",
   "metadata": {},
   "source": [
    "Cual es volumen maximo que podra almacenar el usuario en este producto?"
   ]
  },
  {
   "cell_type": "code",
   "execution_count": 5,
   "metadata": {},
   "outputs": [
    {
     "name": "stdout",
     "output_type": "stream",
     "text": [
      "Volumen máximo: 3.9999999999999933 cm³\n"
     ]
    }
   ],
   "source": [
    "volumen_maximo = -result.fun\n",
    "print(\"Volumen máximo:\", volumen_maximo, \"cm³\")\n"
   ]
  },
  {
   "cell_type": "markdown",
   "metadata": {},
   "source": [
    "Use el metodo de multiplicadores de Lagrange para encontrar la solucion de este\n",
    "problema."
   ]
  },
  {
   "cell_type": "code",
   "execution_count": 8,
   "metadata": {},
   "outputs": [
    {
     "name": "stdout",
     "output_type": "stream",
     "text": [
      "Soluciones:\n",
      "x = -2\n",
      "y = -2\n",
      "z = -1\n",
      "λ = 1/2\n"
     ]
    }
   ],
   "source": [
    "from sympy import symbols, Eq, solve\n",
    "\n",
    "# Definir las variables\n",
    "x, y, z, λ = symbols('x y z λ')\n",
    "\n",
    "# Definir la función Lagrangiana\n",
    "L = x * y * z + λ * (x * y + 2 * x * z + 2 * y * z - 12)\n",
    "\n",
    "# Derivar L con respecto a x, y, z y λ\n",
    "dL_dx = L.diff(x)\n",
    "dL_dy = L.diff(y)\n",
    "dL_dz = L.diff(z)\n",
    "dL_dλ = L.diff(λ)\n",
    "\n",
    "# Establecer las derivadas igual a cero\n",
    "eq1 = Eq(dL_dx, 0)\n",
    "eq2 = Eq(dL_dy, 0)\n",
    "eq3 = Eq(dL_dz, 0)\n",
    "eq4 = Eq(dL_dλ, 0)\n",
    "\n",
    "# Resolver el sistema de ecuaciones\n",
    "sol = solve((eq1, eq2, eq3, eq4), (x, y, z, λ))\n",
    "\n",
    "# Imprimir la solución\n",
    "print(\"Soluciones:\")\n",
    "print(\"x =\", sol[0][0])\n",
    "print(\"y =\", sol[0][1])\n",
    "print(\"z =\", sol[0][2])\n",
    "print(\"λ =\", sol[0][3])\n",
    "\n",
    "\n"
   ]
  }
 ],
 "metadata": {
  "kernelspec": {
   "display_name": "base",
   "language": "python",
   "name": "python3"
  },
  "language_info": {
   "codemirror_mode": {
    "name": "ipython",
    "version": 3
   },
   "file_extension": ".py",
   "mimetype": "text/x-python",
   "name": "python",
   "nbconvert_exporter": "python",
   "pygments_lexer": "ipython3",
   "version": "3.9.7"
  }
 },
 "nbformat": 4,
 "nbformat_minor": 2
}
